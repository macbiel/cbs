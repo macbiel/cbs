{
  "cells": [
    {
      "cell_type": "markdown",
      "metadata": {
        "id": "EGiLk8sMuaLg"
      },
      "source": [
        "# Convolutional Neural Networks\n",
        "\n",
        "We now apply the MLP to MNIST (handwritten digits). First, we use densely connected networks, as done with non-image data.\n",
        "\n",
        "Then, we look into using convolutional layers designed for images. Note that because MNIST is an easy data set to classify, the overall performances may be similar.\n",
        "\n",
        "But there are many benefits of using CNN in images, over densely-connected networks, such as spatial understanding, less parameters, non-diminishing gradients, and others."
      ]
    },
    {
      "cell_type": "code",
      "execution_count": 2,
      "metadata": {
        "id": "vUlnCUZw_uT4"
      },
      "outputs": [],
      "source": [
        "import numpy as np\n",
        "import torch\n",
        "import torch.nn as nn\n",
        "import torch.optim as optim\n",
        "\n",
        "# PyTorch TensorBoard support\n",
        "# from torch.utils.tensorboard import SummaryWriter\n",
        "# import torchvision\n",
        "# import torchvision.transforms as transforms\n",
        "\n",
        "from datetime import datetime\n",
        "\n",
        "import torchvision\n",
        "import torchvision.transforms as transforms\n",
        "\n",
        "from torchvision.datasets import MNIST\n",
        "import matplotlib.pyplot as plt\n",
        "%matplotlib inline\n",
        "\n",
        "from torch.utils.data import random_split\n",
        "from torch.utils.data import DataLoader\n",
        "import torch.nn.functional as F\n",
        "\n",
        "from PIL import Image\n",
        "#import torchvision.transforms as T\n",
        "\n",
        "from functools import reduce\n",
        "from operator import mul"
      ]
    },
    {
      "cell_type": "code",
      "execution_count": 3,
      "metadata": {
        "colab": {
          "base_uri": "https://localhost:8080/"
        },
        "id": "aunCiKGL_x70",
        "outputId": "add1396f-1c2d-4370-ac64-d98767f8ad06"
      },
      "outputs": [
        {
          "output_type": "stream",
          "name": "stdout",
          "text": [
            "Downloading http://yann.lecun.com/exdb/mnist/train-images-idx3-ubyte.gz\n",
            "Failed to download (trying next):\n",
            "HTTP Error 403: Forbidden\n",
            "\n",
            "Downloading https://ossci-datasets.s3.amazonaws.com/mnist/train-images-idx3-ubyte.gz\n",
            "Downloading https://ossci-datasets.s3.amazonaws.com/mnist/train-images-idx3-ubyte.gz to data/MNIST/raw/train-images-idx3-ubyte.gz\n"
          ]
        },
        {
          "output_type": "stream",
          "name": "stderr",
          "text": [
            "100%|██████████| 9912422/9912422 [00:00<00:00, 34985758.74it/s]\n"
          ]
        },
        {
          "output_type": "stream",
          "name": "stdout",
          "text": [
            "Extracting data/MNIST/raw/train-images-idx3-ubyte.gz to data/MNIST/raw\n",
            "\n",
            "Downloading http://yann.lecun.com/exdb/mnist/train-labels-idx1-ubyte.gz\n",
            "Failed to download (trying next):\n",
            "HTTP Error 403: Forbidden\n",
            "\n",
            "Downloading https://ossci-datasets.s3.amazonaws.com/mnist/train-labels-idx1-ubyte.gz\n",
            "Downloading https://ossci-datasets.s3.amazonaws.com/mnist/train-labels-idx1-ubyte.gz to data/MNIST/raw/train-labels-idx1-ubyte.gz\n"
          ]
        },
        {
          "output_type": "stream",
          "name": "stderr",
          "text": [
            "100%|██████████| 28881/28881 [00:00<00:00, 1150168.00it/s]\n"
          ]
        },
        {
          "output_type": "stream",
          "name": "stdout",
          "text": [
            "Extracting data/MNIST/raw/train-labels-idx1-ubyte.gz to data/MNIST/raw\n",
            "\n",
            "Downloading http://yann.lecun.com/exdb/mnist/t10k-images-idx3-ubyte.gz\n",
            "Failed to download (trying next):\n",
            "HTTP Error 403: Forbidden\n",
            "\n",
            "Downloading https://ossci-datasets.s3.amazonaws.com/mnist/t10k-images-idx3-ubyte.gz\n",
            "Downloading https://ossci-datasets.s3.amazonaws.com/mnist/t10k-images-idx3-ubyte.gz to data/MNIST/raw/t10k-images-idx3-ubyte.gz\n"
          ]
        },
        {
          "output_type": "stream",
          "name": "stderr",
          "text": [
            "100%|██████████| 1648877/1648877 [00:00<00:00, 1982852.30it/s]\n"
          ]
        },
        {
          "output_type": "stream",
          "name": "stdout",
          "text": [
            "Extracting data/MNIST/raw/t10k-images-idx3-ubyte.gz to data/MNIST/raw\n",
            "\n",
            "Downloading http://yann.lecun.com/exdb/mnist/t10k-labels-idx1-ubyte.gz\n",
            "Failed to download (trying next):\n",
            "HTTP Error 403: Forbidden\n",
            "\n",
            "Downloading https://ossci-datasets.s3.amazonaws.com/mnist/t10k-labels-idx1-ubyte.gz\n",
            "Downloading https://ossci-datasets.s3.amazonaws.com/mnist/t10k-labels-idx1-ubyte.gz to data/MNIST/raw/t10k-labels-idx1-ubyte.gz\n"
          ]
        },
        {
          "output_type": "stream",
          "name": "stderr",
          "text": [
            "100%|██████████| 4542/4542 [00:00<00:00, 5486903.45it/s]"
          ]
        },
        {
          "output_type": "stream",
          "name": "stdout",
          "text": [
            "Extracting data/MNIST/raw/t10k-labels-idx1-ubyte.gz to data/MNIST/raw\n",
            "\n"
          ]
        },
        {
          "output_type": "stream",
          "name": "stderr",
          "text": [
            "\n"
          ]
        },
        {
          "output_type": "stream",
          "name": "stdout",
          "text": [
            "Dataset MNIST\n",
            "    Number of datapoints: 60000\n",
            "    Root location: data/\n",
            "    Split: Train\n",
            "    StandardTransform\n",
            "Transform: ToTensor()\n"
          ]
        }
      ],
      "source": [
        "# load the dataset\n",
        "mnist_dataset = MNIST(root = 'data/', download=True, train = True, transform = transforms.ToTensor())\n",
        "print(mnist_dataset)"
      ]
    },
    {
      "cell_type": "code",
      "execution_count": 4,
      "metadata": {
        "colab": {
          "base_uri": "https://localhost:8080/",
          "height": 569
        },
        "id": "EdoTesYgN3Pm",
        "outputId": "a2a5bfeb-fd47-4d7b-ad0a-d2ee1de7a3b9"
      },
      "outputs": [
        {
          "output_type": "stream",
          "name": "stdout",
          "text": [
            "torch.Size([1, 28, 28]) 3\n",
            "tensor([[[0.0000, 0.0000, 0.0000, 0.0941, 0.8196],\n",
            "         [0.0000, 0.0000, 0.3569, 0.5373, 0.9922],\n",
            "         [0.1569, 0.8392, 0.9804, 0.9961, 0.9961],\n",
            "         [0.3176, 0.9686, 0.9961, 0.9961, 0.9961],\n",
            "         [0.0000, 0.4314, 0.9647, 0.9961, 0.9961]]])\n",
            "tensor(0.9961) tensor(0.)\n"
          ]
        },
        {
          "output_type": "execute_result",
          "data": {
            "text/plain": [
              "<matplotlib.image.AxesImage at 0x7f89a06d1bd0>"
            ]
          },
          "metadata": {},
          "execution_count": 4
        },
        {
          "output_type": "display_data",
          "data": {
            "text/plain": [
              "<Figure size 640x480 with 1 Axes>"
            ],
            "image/png": "[encoded data removed]"
          },
          "metadata": {}
        }
      ],
      "source": [
        "# mnist_dataset has 'images as tensors' so that they can't be displayed directly\n",
        "sampleTensor, label = mnist_dataset[10]\n",
        "print(sampleTensor.shape, label)\n",
        "tpil = transforms.ToPILImage() # using the __call__ to\n",
        "image = tpil(sampleTensor)\n",
        "image.show()\n",
        "\n",
        "# The image is now convert to a 28 X 28 tensor.\n",
        "# The first dimension is used to keep track of the color channels.\n",
        "# Since images in the MNIST dataset are grayscale, there's just one channel.\n",
        "# The values range from 0 to 1, with 0 representing black, 1 white and the values between different shades of grey.\n",
        "print(sampleTensor[:,10:15,10:15])\n",
        "print(torch.max(sampleTensor), torch.min(sampleTensor))\n",
        "plt.imshow(sampleTensor[0,:,:],cmap = 'gray')"
      ]
    },
    {
      "cell_type": "code",
      "execution_count": 5,
      "metadata": {
        "colab": {
          "base_uri": "https://localhost:8080/",
          "height": 675
        },
        "id": "cUoprtTSXCMu",
        "outputId": "723698f8-5eb3-494d-a999-ee0245b028c5"
      },
      "outputs": [
        {
          "output_type": "display_data",
          "data": {
            "text/plain": [
              "<Figure size 1000x800 with 25 Axes>"
            ],
            "image/png": "[encoded data removed]"
          },
          "metadata": {}
        }
      ],
      "source": [
        "# Print multiple images at once\n",
        "figure = plt.figure(figsize=(10, 8))\n",
        "cols, rows = 5, 5\n",
        "for i in range(1, cols * rows + 1):\n",
        "    sample_idx = torch.randint(len(mnist_dataset), size=(1,)).item()\n",
        "    img, label = mnist_dataset[sample_idx]\n",
        "    figure.add_subplot(rows, cols, i)\n",
        "    plt.title(label)\n",
        "    plt.axis(\"off\")\n",
        "    plt.imshow(img.squeeze(), cmap=\"gray\")\n",
        "plt.show()"
      ]
    },
    {
      "cell_type": "code",
      "execution_count": 6,
      "metadata": {
        "colab": {
          "base_uri": "https://localhost:8080/",
          "height": 552
        },
        "id": "wJZOiH1jOPDd",
        "outputId": "f15e6694-1185-4fb9-fa07-dfb0923b025d"
      },
      "outputs": [
        {
          "output_type": "stream",
          "name": "stdout",
          "text": [
            "tensor([[[0.0000, 0.0000, 0.0000, 0.0941, 0.8196],\n",
            "         [0.0000, 0.0000, 0.3569, 0.5373, 0.9922],\n",
            "         [0.1569, 0.8392, 0.9804, 0.9961, 0.9961],\n",
            "         [0.3176, 0.9686, 0.9961, 0.9961, 0.9961],\n",
            "         [0.0000, 0.4314, 0.9647, 0.9961, 0.9961]]])\n",
            "tensor(0.9961) tensor(0.)\n"
          ]
        },
        {
          "output_type": "execute_result",
          "data": {
            "text/plain": [
              "<matplotlib.image.AxesImage at 0x7f899de1a950>"
            ]
          },
          "metadata": {},
          "execution_count": 6
        },
        {
          "output_type": "display_data",
          "data": {
            "text/plain": [
              "<Figure size 640x480 with 1 Axes>"
            ],
            "image/png": "[encoded data removed]"
          },
          "metadata": {}
        }
      ],
      "source": [
        "# The image is now convert to a 28 X 28 tensor.\n",
        "# The first dimension is used to keep track of the color channels.\n",
        "# Since images in the MNIST dataset are grayscale, there's just one channel.\n",
        "# The values range from 0 to 1, with 0 representing black, 1 white and the values between different shades of grey.\n",
        "print(sampleTensor[:,10:15,10:15])\n",
        "print(torch.max(sampleTensor), torch.min(sampleTensor))\n",
        "plt.imshow(sampleTensor[0,:,:],cmap = 'gray')"
      ]
    },
    {
      "cell_type": "markdown",
      "metadata": {
        "id": "0KrRau1CUN_i"
      },
      "source": [
        "## Training and validation data\n",
        "While building a ML/DP models, it is common to split the dataset into 3 parts:\n",
        "\n",
        "*   Training set - to train the model,c ompute the loss and adjust the weights of the model using gradient descent.\n",
        "*   Validation set - to evalute the traing model, adjusting the hyperparameters and pick the best version of the model.\n",
        "*   Test set - to final check the model predictions on the new unseen data to evaluate how well the model is performing.\n",
        "\n",
        "Quite often, validation and test sets are interchanged (i.e., the validation set is used to final check the model predictions...). Read carefully of the setup.\n",
        "\n",
        "Following adapted from [Kaggle notebook](https://www.kaggle.com/code/geekysaint/solving-mnist-using-pytorch)"
      ]
    },
    {
      "cell_type": "code",
      "execution_count": 7,
      "metadata": {
        "colab": {
          "base_uri": "https://localhost:8080/"
        },
        "id": "GiLmv_fiTqHk",
        "outputId": "a0de94d9-9dd8-411d-b15a-edbeaf898bb2"
      },
      "outputs": [
        {
          "output_type": "stream",
          "name": "stdout",
          "text": [
            "length of Train Datasets:  50000\n",
            "length of Validation Datasets:  10000\n"
          ]
        }
      ],
      "source": [
        "train_data, validation_data = random_split(mnist_dataset, [50000, 10000])\n",
        "## Print the length of train and validation datasets\n",
        "print(\"length of Train Datasets: \", len(train_data))\n",
        "print(\"length of Validation Datasets: \", len(validation_data))\n",
        "\n",
        "batch_size = 128\n",
        "train_loader = DataLoader(train_data, batch_size, shuffle = True)\n",
        "val_loader = DataLoader(validation_data, batch_size, shuffle = False)\n",
        "## MNIST data from pytorch already provides held-out test set!"
      ]
    },
    {
      "cell_type": "markdown",
      "metadata": {
        "id": "Jg7xHMBrBKKn"
      },
      "source": [
        "## Multi-class Logistic Regression (a building block of DNN)\n",
        "\n",
        "Since nn.Linear expects the each training example to a vector, each 1 X 28 X 28 image tensor needs to be flattened out into a vector of size 784(28 X 28), before being passed into the model.\n",
        "\n",
        "The output for each image is vector of size 10, with each element of the vector signifying the probability a particular target label(i.e 0 to 9). The predicted label for an image is simply the one with the highest probability."
      ]
    },
    {
      "cell_type": "code",
      "execution_count": 8,
      "metadata": {
        "id": "-pEOC6zQTqLn"
      },
      "outputs": [],
      "source": [
        "## Basic set up for a logistic regression model (won't be used in practice or for training)\n",
        "input_size = 28 * 28\n",
        "num_classes = 10\n",
        "\n",
        "# we gradually build on this inherited class from pytorch\n",
        "model = nn.Linear(input_size, num_classes)"
      ]
    },
    {
      "cell_type": "markdown",
      "metadata": {
        "id": "2AnDPzTaBmYc"
      },
      "source": [
        "We define the class with multiple methods so that we can train, evaluate, and do many other routine tasks with the model.\n",
        "\n",
        "Particularly, we are looking at multi-class logistic regression (a generalization of one-class logistic regression) using the softmax function (more about this in a few cells down)"
      ]
    },
    {
      "cell_type": "code",
      "execution_count": 9,
      "metadata": {
        "colab": {
          "base_uri": "https://localhost:8080/"
        },
        "id": "GHnFjoJ_TqNu",
        "outputId": "c8bad271-febd-4e6a-bcf4-7e0e4dca6fa6"
      },
      "outputs": [
        {
          "output_type": "stream",
          "name": "stdout",
          "text": [
            "torch.Size([10, 784]) torch.Size([10])\n"
          ]
        },
        {
          "output_type": "execute_result",
          "data": {
            "text/plain": [
              "[Parameter containing:\n",
              " tensor([[-0.0082,  0.0016, -0.0219,  ..., -0.0192, -0.0212, -0.0132],\n",
              "         [-0.0190, -0.0070,  0.0248,  ..., -0.0158, -0.0348,  0.0117],\n",
              "         [ 0.0122,  0.0322, -0.0310,  ...,  0.0184, -0.0184, -0.0019],\n",
              "         ...,\n",
              "         [-0.0186, -0.0044,  0.0194,  ...,  0.0155,  0.0270,  0.0012],\n",
              "         [ 0.0312, -0.0146, -0.0028,  ...,  0.0108,  0.0109,  0.0089],\n",
              "         [ 0.0202,  0.0047,  0.0234,  ...,  0.0006, -0.0322,  0.0064]],\n",
              "        requires_grad=True),\n",
              " Parameter containing:\n",
              " tensor([ 0.0187, -0.0101,  0.0063,  0.0159, -0.0190,  0.0283, -0.0345,  0.0324,\n",
              "         -0.0125,  0.0215], requires_grad=True)]"
            ]
          },
          "metadata": {},
          "execution_count": 9
        }
      ],
      "source": [
        "# Slowly build the model, first with basic\n",
        "class MnistModel(nn.Module):\n",
        "    def __init__(self):\n",
        "        super().__init__()\n",
        "        self.linear = nn.Linear(input_size, num_classes)\n",
        "\n",
        "    def forward(self, xb):\n",
        "        # view xb with two dimensions, 28 * 28(i.e 784)\n",
        "        # One argument to .reshape can be set to -1(in this case the first dimension),\n",
        "        # to let PyTorch figure it out automatically based on the shape of the original tensor.\n",
        "        xb = xb.reshape(-1, 784)\n",
        "        print(xb)\n",
        "        out = self.linear(xb)\n",
        "        print(out)\n",
        "        return(out)\n",
        "\n",
        "model = MnistModel()\n",
        "print(model.linear.weight.shape, model.linear.bias.shape)\n",
        "list(model.parameters())"
      ]
    },
    {
      "cell_type": "code",
      "execution_count": 10,
      "metadata": {
        "colab": {
          "base_uri": "https://localhost:8080/"
        },
        "id": "UaKSfi8gTqPp",
        "outputId": "7eec1a7d-9562-4d44-c6b1-c0acc8e89271"
      },
      "outputs": [
        {
          "output_type": "stream",
          "name": "stdout",
          "text": [
            "tensor([[0., 0., 0.,  ..., 0., 0., 0.],\n",
            "        [0., 0., 0.,  ..., 0., 0., 0.],\n",
            "        [0., 0., 0.,  ..., 0., 0., 0.],\n",
            "        ...,\n",
            "        [0., 0., 0.,  ..., 0., 0., 0.],\n",
            "        [0., 0., 0.,  ..., 0., 0., 0.],\n",
            "        [0., 0., 0.,  ..., 0., 0., 0.]])\n",
            "tensor([[-0.0637,  0.2107,  0.1601,  ..., -0.0009, -0.2063,  0.1271],\n",
            "        [ 0.1137,  0.1750,  0.0783,  ...,  0.2050,  0.1644,  0.1255],\n",
            "        [-0.1881,  0.2027, -0.2729,  ...,  0.3941,  0.0574,  0.2871],\n",
            "        ...,\n",
            "        [-0.1009, -0.0064, -0.2349,  ...,  0.2620, -0.1859,  0.2947],\n",
            "        [-0.1836, -0.0120, -0.0477,  ...,  0.1960, -0.0297,  0.3969],\n",
            "        [ 0.1082,  0.0731, -0.0639,  ...,  0.0960, -0.0192,  0.0113]],\n",
            "       grad_fn=<AddmmBackward0>)\n",
            "Outputs shape:  torch.Size([128, 10])\n",
            "Sample outputs: \n",
            " tensor([[-0.0637,  0.2107,  0.1601,  0.2791, -0.0043,  0.0623, -0.1354, -0.0009,\n",
            "         -0.2063,  0.1271],\n",
            "        [ 0.1137,  0.1750,  0.0783,  0.1339,  0.1482,  0.0784, -0.1403,  0.2050,\n",
            "          0.1644,  0.1255]])\n"
          ]
        }
      ],
      "source": [
        "# Alway check the dimensions and sample data/image\n",
        "for images, labels in train_loader:\n",
        "    outputs = model(images)\n",
        "    break\n",
        "\n",
        "print('Outputs shape: ', outputs.shape) # torch.Size([128, 10])\n",
        "print('Sample outputs: \\n', outputs[:2].data) # example outputs"
      ]
    },
    {
      "cell_type": "markdown",
      "metadata": {
        "id": "DrmGrWiVDRfJ"
      },
      "source": [
        "## Softmax function\n",
        "\n",
        "\n",
        "![download (1).png](data:image/png;base64,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)\n",
        "\n",
        "The softmax function is a function that turns a vector of K real values into a vector of K real values that sum to 1. The input values can be positive, negative, zero, or greater than one, but the softmax transforms them into values between 0 and 1, so that they can be interpreted as probabilities. If one of the inputs is small or negative, the softmax turns it into a small probability, and if an input is large, then it turns it into a large probability, but it will always remain between 0 and 1.\n",
        "\n",
        "The softmax function is sometimes called the softargmax function, or multi-class logistic regression. This is because the softmax is a generalization of logistic regression that can be used for multi-class classification, and its formula is very similar to the sigmoid function which is used for logistic regression. The softmax function can be used in a classifier only when the classes are mutually exclusive.\n",
        "\n",
        "Many multi-layer neural networks end in a penultimate layer which outputs real-valued scores that are not conveniently scaled and which may be difficult to work with. Here the softmax is very useful because it converts the scores to a normalized probability distribution, which can be displayed to a user or used as input to other systems. For this reason it is usual to append a softmax function as the final layer of the neural network."
      ]
    },
    {
      "cell_type": "markdown",
      "metadata": {
        "id": "OObNRVXDAFF4"
      },
      "source": [
        "![6.jpeg](data:image/jpeg;base64,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)\n",
        "\n",
        "Image from https://insideaiml.com/blog/SoftMaxActivation-Function-1034"
      ]
    },
    {
      "cell_type": "code",
      "execution_count": 11,
      "metadata": {
        "colab": {
          "base_uri": "https://localhost:8080/"
        },
        "id": "fzr3_3nuTqRn",
        "outputId": "3bf25edf-76eb-4770-cc38-91facad153d3"
      },
      "outputs": [
        {
          "output_type": "stream",
          "name": "stdout",
          "text": [
            "Sample probabilities:\n",
            " tensor([[0.0889, 0.1170, 0.1112, 0.1253, 0.0944, 0.1009, 0.0828, 0.0947, 0.0771,\n",
            "         0.1076],\n",
            "        [0.1002, 0.1065, 0.0967, 0.1022, 0.1037, 0.0967, 0.0777, 0.1097, 0.1054,\n",
            "         0.1013]])\n"
          ]
        }
      ],
      "source": [
        "## Apply softmax for each output row\n",
        "probs = F.softmax(outputs, dim = 1)\n",
        "\n",
        "## chaecking at sample probabilities\n",
        "print(\"Sample probabilities:\\n\", probs[:2].data)\n",
        "\n",
        "# print(preds)\n",
        "# print(\"\\n\")\n",
        "# print(max_probs)"
      ]
    },
    {
      "cell_type": "markdown",
      "metadata": {
        "id": "W9KIuwFxEJ_6"
      },
      "source": [
        "## Evaluation Metric and Loss Function\n",
        "\n",
        "Here we evaluate our model by finding the percentage of labels that were predicted correctly i.e. the accuracy of the predictions. We can simply find the label with maximum value (before OR after the softmax layer).\n",
        "\n",
        "NOTE that while accuracy is a great way to evluate the model, it can't be used as a loss function for optimizing our model using gradient descent, because it does not take into account the actual probabilities predicted by the model, so it can't provide sufficient feedback for increemental improvements.\n",
        "\n",
        "Due to this reason accuracy is a great evaluation metric (and human-understanble) for classification metric, but not a good loss function. A commonly used loss function for classification problems is the Cross Entropy (implemented directly, no extra coding required)."
      ]
    },
    {
      "cell_type": "code",
      "execution_count": 12,
      "metadata": {
        "colab": {
          "base_uri": "https://localhost:8080/"
        },
        "id": "c9OOt5jVDLtp",
        "outputId": "16c8d524-a109-4117-f73d-da8eeb1258f4"
      },
      "outputs": [
        {
          "output_type": "stream",
          "name": "stdout",
          "text": [
            "Accuracy:  tensor(0.1484)\n",
            "\n",
            "\n",
            "Loss Function:  <function cross_entropy at 0x7f8a52c11e10>\n",
            "\n",
            "\n",
            "tensor(2.2788, grad_fn=<NllLossBackward0>)\n"
          ]
        }
      ],
      "source": [
        "# accuracy calculation\n",
        "def accuracy(outputs, labels):\n",
        "    _, preds = torch.max(outputs, dim = 1)\n",
        "    return(torch.tensor(torch.sum(preds == labels).item()/ len(preds)))\n",
        "\n",
        "print(\"Accuracy: \", accuracy(outputs, labels))\n",
        "print(\"\\n\")\n",
        "loss_fn = F.cross_entropy\n",
        "print(\"Loss Function: \",loss_fn)\n",
        "print(\"\\n\")\n",
        "## Loss for the current batch\n",
        "loss = loss_fn(outputs, labels)\n",
        "print(loss)\n"
      ]
    },
    {
      "cell_type": "markdown",
      "metadata": {
        "id": "mmFFVnn2ErwI"
      },
      "source": [
        "## Cross-Entropy\n",
        "Cross-entropy is commonly used to quantify the difference between two probabilities distribution. Usually the \"True\" distribution is expressed in terms of a one-hot distribution.\n",
        "\n",
        "Read more on:\n",
        "\n",
        "\n",
        "*   https://en.wikipedia.org/wiki/Cross_entropy\n",
        "*   https://machinelearningmastery.com/cross-entropy-for-machine-learning/\n",
        "*   https://stackoverflow.com/questions/41990250/what-is-cross-entropy"
      ]
    },
    {
      "cell_type": "code",
      "execution_count": 13,
      "metadata": {
        "id": "USD90ZleEIyX"
      },
      "outputs": [],
      "source": [
        "# We put all of the above:\n",
        "class MnistModel(nn.Module):\n",
        "    def __init__(self):\n",
        "        super().__init__()\n",
        "        self.linear = nn.Linear(input_size, num_classes)\n",
        "\n",
        "    def forward(self, xb):\n",
        "        xb = xb.reshape(-1, 784)\n",
        "        out = self.linear(xb)\n",
        "        return(out)\n",
        "\n",
        "    # We add extra methods\n",
        "    def training_step(self, batch):\n",
        "        # when training, we compute the cross entropy, which help us update weights\n",
        "        images, labels = batch\n",
        "        out = self(images) ## Generate predictions\n",
        "        loss = F.cross_entropy(out, labels) ## Calculate the loss\n",
        "        return(loss)\n",
        "\n",
        "    def validation_step(self, batch):\n",
        "        images, labels = batch\n",
        "        out = self(images) ## Generate predictions\n",
        "        loss = F.cross_entropy(out, labels) ## Calculate the loss\n",
        "        # in validation, we want to also look at the accuracy\n",
        "        # idealy, we would like to save the model when the accuracy is the highest.\n",
        "        acc = accuracy(out, labels) ## calculate metrics/accuracy\n",
        "        return({'val_loss':loss, 'val_acc': acc})\n",
        "\n",
        "    def validation_epoch_end(self, outputs):\n",
        "        # at the end of epoch (after running through all the batches)\n",
        "        batch_losses = [x['val_loss'] for x in outputs]\n",
        "        epoch_loss = torch.stack(batch_losses).mean()\n",
        "        batch_accs = [x['val_acc'] for x in outputs]\n",
        "        epoch_acc = torch.stack(batch_accs).mean()\n",
        "        return({'val_loss': epoch_loss.item(), 'val_acc' : epoch_acc.item()})\n",
        "\n",
        "    def epoch_end(self, epoch,result):\n",
        "        # log epoch, loss, metrics\n",
        "        print(\"Epoch [{}], val_loss: {:.4f}, val_acc: {:.4f}\".format(epoch, result['val_loss'], result['val_acc']))\n",
        "\n",
        "# we instantiate the model\n",
        "model = MnistModel()\n",
        "\n",
        "# a simple helper function to evaluate\n",
        "def evaluate(model, data_loader):\n",
        "    # for batch in data_loader, run validation_step\n",
        "    outputs = [model.validation_step(batch) for batch in data_loader]\n",
        "    return(model.validation_epoch_end(outputs))\n",
        "\n",
        "# actually training\n",
        "def fit(epochs, lr, model, train_loader, val_loader, opt_func = torch.optim.SGD):\n",
        "    history = []\n",
        "    optimizer = opt_func(model.parameters(), lr)\n",
        "    for epoch in range(epochs):\n",
        "        ## Training Phase\n",
        "        for batch in train_loader:\n",
        "            loss = model.training_step(batch)\n",
        "            loss.backward() ## backpropagation starts at the loss and goes through all layers to model inputs\n",
        "            optimizer.step() ## the optimizer iterate over all parameters (tensors); use their stored grad to update their values\n",
        "            optimizer.zero_grad() ## reset gradients\n",
        "\n",
        "        ## Validation phase\n",
        "        result = evaluate(model, val_loader)\n",
        "        model.epoch_end(epoch, result)\n",
        "        history.append(result)\n",
        "    return(history)"
      ]
    },
    {
      "cell_type": "code",
      "execution_count": 14,
      "metadata": {
        "colab": {
          "base_uri": "https://localhost:8080/"
        },
        "id": "--0evSrmDLvP",
        "outputId": "8272d77b-9bd5-418b-b7d3-575c73195610"
      },
      "outputs": [
        {
          "output_type": "execute_result",
          "data": {
            "text/plain": [
              "{'val_loss': 2.3406312465667725, 'val_acc': 0.07594936341047287}"
            ]
          },
          "metadata": {},
          "execution_count": 14
        }
      ],
      "source": [
        "# test the functions, with a randomly initialized model (weights are random, e.g., untrained)\n",
        "result0 = evaluate(model, val_loader)\n",
        "result0"
      ]
    },
    {
      "cell_type": "code",
      "execution_count": 15,
      "metadata": {
        "colab": {
          "base_uri": "https://localhost:8080/"
        },
        "id": "sr5Q_YB_DLxh",
        "outputId": "e78716ef-811e-48f7-ece1-22e55ce53c99"
      },
      "outputs": [
        {
          "output_type": "stream",
          "name": "stdout",
          "text": [
            "Epoch [0], val_loss: 1.9702, val_acc: 0.6048\n",
            "Epoch [1], val_loss: 1.6949, val_acc: 0.7285\n",
            "Epoch [2], val_loss: 1.4891, val_acc: 0.7632\n",
            "Epoch [3], val_loss: 1.3338, val_acc: 0.7879\n",
            "Epoch [4], val_loss: 1.2146, val_acc: 0.8000\n",
            "Epoch [5], val_loss: 1.1211, val_acc: 0.8118\n",
            "Epoch [6], val_loss: 1.0462, val_acc: 0.8178\n",
            "Epoch [7], val_loss: 0.9851, val_acc: 0.8228\n",
            "Epoch [8], val_loss: 0.9344, val_acc: 0.8271\n",
            "Epoch [9], val_loss: 0.8917, val_acc: 0.8313\n"
          ]
        }
      ],
      "source": [
        "# let's train for 10 epochs\n",
        "history1 = fit(10, 0.001, model, train_loader, val_loader)"
      ]
    },
    {
      "cell_type": "code",
      "execution_count": 16,
      "metadata": {
        "colab": {
          "base_uri": "https://localhost:8080/",
          "height": 489
        },
        "id": "ZPRRJ6Q5Jso4",
        "outputId": "92d697a5-c3de-456d-9d31-af3caf8f1bf6"
      },
      "outputs": [
        {
          "output_type": "execute_result",
          "data": {
            "text/plain": [
              "Text(0.5, 1.0, 'Accuracy over epochs')"
            ]
          },
          "metadata": {},
          "execution_count": 16
        },
        {
          "output_type": "display_data",
          "data": {
            "text/plain": [
              "<Figure size 640x480 with 1 Axes>"
            ],
            "image/png": "[encoded data removed]"
          },
          "metadata": {}
        }
      ],
      "source": [
        "# we combine the first result (no training) and the training results of 5 epoches\n",
        "# plotting accuracy\n",
        "history = [result0] + history1\n",
        "accuracies = [result['val_acc'] for result in history]\n",
        "plt.plot(accuracies, '-x')\n",
        "plt.xlabel('epoch')\n",
        "plt.ylabel('accuracy')\n",
        "plt.title('Accuracy over epochs')"
      ]
    },
    {
      "cell_type": "code",
      "execution_count": 17,
      "metadata": {
        "colab": {
          "base_uri": "https://localhost:8080/",
          "height": 489
        },
        "id": "mR24stKICPDI",
        "outputId": "49a511b3-6fe7-4e50-bb12-6dd46724e238"
      },
      "outputs": [
        {
          "output_type": "execute_result",
          "data": {
            "text/plain": [
              "Text(0.5, 1.0, 'Losses  over epochs')"
            ]
          },
          "metadata": {},
          "execution_count": 17
        },
        {
          "output_type": "display_data",
          "data": {
            "text/plain": [
              "<Figure size 640x480 with 1 Axes>"
            ],
            "image/png": "[encoded data removed]"
          },
          "metadata": {}
        }
      ],
      "source": [
        "# plotting losses\n",
        "history = [result0] + history1\n",
        "losses = [result['val_loss'] for result in history]\n",
        "plt.plot(losses, '-x')\n",
        "plt.xlabel('epoch')\n",
        "plt.ylabel('losses')\n",
        "plt.title('Losses  over epochs')"
      ]
    },
    {
      "cell_type": "markdown",
      "metadata": {
        "id": "it8UvFhFKcJj"
      },
      "source": [
        "## Final check using the (held-out) test dataset.\n",
        "\n",
        "We will first load the test dataset (from MNIST) and individually check the prediction made by the model. And then, we will put through all images in the test dataset to obtain the final accuracy"
      ]
    },
    {
      "cell_type": "code",
      "execution_count": 18,
      "metadata": {
        "colab": {
          "base_uri": "https://localhost:8080/",
          "height": 482
        },
        "id": "_DE35fHbJsqz",
        "outputId": "0b2b9f50-2cf8-4c99-925b-5106e3753fa7"
      },
      "outputs": [
        {
          "output_type": "stream",
          "name": "stdout",
          "text": [
            "Length of Test Datasets:  10000\n",
            "Shape:  torch.Size([1, 28, 28])\n",
            "Label:  7\n"
          ]
        },
        {
          "output_type": "display_data",
          "data": {
            "text/plain": [
              "<Figure size 640x480 with 1 Axes>"
            ],
            "image/png": "[encoded data removed]"
          },
          "metadata": {}
        }
      ],
      "source": [
        "# Testing with individual images\n",
        "## Define the test dataset\n",
        "test_dataset = MNIST(root = 'data/', train = False, transform = transforms.ToTensor())\n",
        "print(\"Length of Test Datasets: \", len(test_dataset))\n",
        "img, label = test_dataset[0]\n",
        "plt.imshow(img[0], cmap = 'gray')\n",
        "print(\"Shape: \", img.shape)\n",
        "print('Label: ', label)"
      ]
    },
    {
      "cell_type": "code",
      "execution_count": 19,
      "metadata": {
        "id": "2sYxNhN1Jssx"
      },
      "outputs": [],
      "source": [
        "def predict_image(img, model):\n",
        "    xb = img.unsqueeze(0)\n",
        "    yb = model(xb)\n",
        "    _, preds = torch.max(yb, dim = 1)\n",
        "    return(preds[0].item())"
      ]
    },
    {
      "cell_type": "code",
      "execution_count": 20,
      "metadata": {
        "colab": {
          "base_uri": "https://localhost:8080/"
        },
        "id": "3etUr9pgJsuy",
        "outputId": "0827d75f-734a-485f-e9df-f408109163b6"
      },
      "outputs": [
        {
          "output_type": "stream",
          "name": "stdout",
          "text": [
            "Label: 7 , Predicted : 7\n"
          ]
        }
      ],
      "source": [
        "img, label = test_dataset[0]\n",
        "print('Label:', label, ', Predicted :', predict_image(img, model))"
      ]
    },
    {
      "cell_type": "code",
      "execution_count": 21,
      "metadata": {
        "colab": {
          "base_uri": "https://localhost:8080/"
        },
        "id": "xVGiKdbSJpAe",
        "outputId": "3664c19e-9db6-4980-bb06-0a3c5c9164e1"
      },
      "outputs": [
        {
          "output_type": "execute_result",
          "data": {
            "text/plain": [
              "{'val_loss': 0.8665978312492371, 'val_acc': 0.836718738079071}"
            ]
          },
          "metadata": {},
          "execution_count": 21
        }
      ],
      "source": [
        "# the final check on the test dataset (not used in any training)\n",
        "test_loader = DataLoader(test_dataset, batch_size = 256, shuffle = False)\n",
        "result = evaluate(model, test_loader)\n",
        "result"
      ]
    },
    {
      "cell_type": "markdown",
      "metadata": {
        "id": "avn25m7yVyWd"
      },
      "source": [
        "# Convolutional Neural Network (CNN)\n",
        "So far we treated the MNIST data by flatting each image into a vector. However, there's a lot of information embedded in spatial information. In order to fully `understand' the image, we need to consider its 2 or more dimensions. Convolutional layers help us in this regard. In most of cases, CNN outperforms densely connected networks and is the most popular architecture for imaging analysis.\n",
        "\n",
        "CNN is the main force behind revolutionizing the AI or deep learning in the recent decade. Deep neural networks using CNN has shown unprecedented performances when they were first introduced at many competitions (e.g., the ImageNet) by large margins. For imaging analysis, CNN remains the mainstay.\n",
        "\n",
        "Looking ahead, there are more recent architectures such as the transformer and the diffusion model. We won't be convering them in this course ;)"
      ]
    },
    {
      "cell_type": "markdown",
      "metadata": {
        "id": "whld5HzpDlVb"
      },
      "source": [
        "Convolutional layer is implemented in pytorch as **nn.Conv2d**. As you can see, it is essentially a drop in replacement for nn.Linear and other classes.\n",
        "\n",
        "The explanation for the pytorch class **nn.Conv2d**.\n",
        "\n",
        "in_channels (int) — Number of channels in the input image, 1 for a grayscale image\n",
        "\n",
        "out_channels (int) — Number of channels produced by the convolution\n",
        "\n",
        "kernel_size (int or tuple) — Size of the convolving kernel\n",
        "\n",
        "stride (int or tuple, optional) — Stride of the convolution. Default: 1\n",
        "\n",
        "padding (int or tuple, optional) — Zero-padding added to both sides of the input. Default: 0\n",
        "\n",
        "padding_mode (string, optional) — ‘zeros’, ‘reflect’, ‘replicate’ or ‘circular’. Default: ‘zeros’\n",
        "\n",
        "dilation (int or tuple, optional) — Spacing between kernel elements. Default: 1\n",
        "\n",
        "groups (int, optional) — Number of blocked connections from input channels to output channels. Default: 1\n",
        "\n",
        "bias (bool, optional) — If True, adds a learnable bias to the output. Default: True\n",
        "\n",
        "Adapted from [@nutanbhogendrasharma](https://medium.com/@nutanbhogendrasharma/pytorch-convolutional-neural-network-with-mnist-dataset-4e8a4265e118)\n",
        "\n"
      ]
    },
    {
      "cell_type": "markdown",
      "metadata": {
        "id": "jEKHAcgwVsI0"
      },
      "source": [
        "![1_3DUs-90altOgaBcVJ9LTGg.webp](data:image/webp;base64,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)"
      ]
    },
    {
      "cell_type": "code",
      "execution_count": 22,
      "metadata": {
        "colab": {
          "base_uri": "https://localhost:8080/"
        },
        "id": "0EjLVWe_I9Eq",
        "outputId": "bb48d249-64e7-4869-8f68-9b66035a20d2"
      },
      "outputs": [
        {
          "output_type": "stream",
          "name": "stdout",
          "text": [
            "CNN(\n",
            "  (conv1): Sequential(\n",
            "    (0): Conv2d(1, 16, kernel_size=(5, 5), stride=(1, 1), padding=(2, 2))\n",
            "    (1): ReLU()\n",
            "    (2): MaxPool2d(kernel_size=2, stride=2, padding=0, dilation=1, ceil_mode=False)\n",
            "  )\n",
            "  (conv2): Sequential(\n",
            "    (0): Conv2d(16, 32, kernel_size=(5, 5), stride=(1, 1), padding=(2, 2))\n",
            "    (1): ReLU()\n",
            "    (2): MaxPool2d(kernel_size=2, stride=2, padding=0, dilation=1, ceil_mode=False)\n",
            "  )\n",
            "  (out): Linear(in_features=1568, out_features=10, bias=True)\n",
            ")\n"
          ]
        }
      ],
      "source": [
        "# We construct a fundamental CNN class.\n",
        "class CNN(nn.Module):\n",
        "    def __init__(self):\n",
        "        super(CNN, self).__init__()\n",
        "        self.conv1 = nn.Sequential(\n",
        "            nn.Conv2d(\n",
        "                in_channels=1,\n",
        "                out_channels=16,\n",
        "                kernel_size=5,\n",
        "                stride=1,\n",
        "                padding=2,\n",
        "            ),\n",
        "            nn.ReLU(),\n",
        "            nn.MaxPool2d(kernel_size=2),\n",
        "        )\n",
        "        self.conv2 = nn.Sequential(\n",
        "            nn.Conv2d(16, 32, 5, 1, 2),\n",
        "            nn.ReLU(),\n",
        "            nn.MaxPool2d(2),\n",
        "        )\n",
        "        # fully connected layer, output 10 classes\n",
        "        self.out = nn.Linear(32 * 7 * 7, 10)\n",
        "    def forward(self, x):\n",
        "        x = self.conv1(x)\n",
        "        x = self.conv2(x)\n",
        "        # flatten the output of conv2 to (batch_size, 32 * 7 * 7)\n",
        "        x = x.view(x.size(0), -1)\n",
        "        output = self.out(x)\n",
        "        return output, x    # return x for visualization\n",
        "\n",
        "cnn = CNN()\n",
        "print(cnn)"
      ]
    },
    {
      "cell_type": "code",
      "execution_count": 23,
      "metadata": {
        "colab": {
          "base_uri": "https://localhost:8080/"
        },
        "id": "cGb4rxOKYa4d",
        "outputId": "a0a43f16-a0d4-497f-d861-63d112ff2b2b"
      },
      "outputs": [
        {
          "output_type": "execute_result",
          "data": {
            "text/plain": [
              "Adam (\n",
              "Parameter Group 0\n",
              "    amsgrad: False\n",
              "    betas: (0.9, 0.999)\n",
              "    capturable: False\n",
              "    differentiable: False\n",
              "    eps: 1e-08\n",
              "    foreach: None\n",
              "    fused: None\n",
              "    lr: 0.01\n",
              "    maximize: False\n",
              "    weight_decay: 0\n",
              ")"
            ]
          },
          "metadata": {},
          "execution_count": 23
        }
      ],
      "source": [
        "loss_func = nn.CrossEntropyLoss()\n",
        "loss_func\n",
        "\n",
        "# unlike earlier example using optim.SGD, we use optim.Adam as the optimizer\n",
        "# lr(Learning Rate): Rate at which our model updates the weights in the cells each time back-propagation is done.\n",
        "optimizer = optim.Adam(cnn.parameters(), lr = 0.01)\n",
        "optimizer"
      ]
    },
    {
      "cell_type": "code",
      "execution_count": 24,
      "metadata": {
        "id": "2oIU_K0NYxOE"
      },
      "outputs": [],
      "source": [
        "# train_data, validation_data = random_split(mnist_dataset, [50000, 10000])\n",
        "# ## Print the length of train and validation datasets\n",
        "# print(\"length of Train Datasets: \", len(train_data))\n",
        "# print(\"length of Validation Datasets: \", len(validation_data))\n",
        "\n",
        "# batch_size = 128\n",
        "# train_loader = DataLoader(train_data, batch_size, shuffle = True)\n",
        "# val_loader = DataLoader(validation_data, batch_size, shuffle = False)\n",
        "from torch.autograd import Variable\n",
        "\n",
        "def train(num_epochs, cnn, loaders):\n",
        "    cnn.train()\n",
        "    optimizer = optim.Adam(cnn.parameters(), lr = 0.01)\n",
        "    loss_func = nn.CrossEntropyLoss()\n",
        "    # Train the model\n",
        "    total_step = len(loaders)\n",
        "\n",
        "    for epoch in range(num_epochs):\n",
        "        for i, (images, labels) in enumerate(loaders):\n",
        "\n",
        "            # gives batch data, normalize x when iterate train_loader\n",
        "            b_x = Variable(images)   # batch x\n",
        "            b_y = Variable(labels)   # batch y\n",
        "            output = cnn(b_x)[0]\n",
        "            loss = loss_func(output, b_y)\n",
        "\n",
        "            # clear gradients for this training step\n",
        "            optimizer.zero_grad()\n",
        "\n",
        "            # backpropagation, compute gradients\n",
        "            loss.backward()\n",
        "            # apply gradients\n",
        "            optimizer.step()\n",
        "\n",
        "        pass\n",
        "        print ('Epoch [{}/{}], Loss: {:.4f}'.format(epoch + 1, num_epochs, loss.item()))\n",
        "    pass"
      ]
    },
    {
      "cell_type": "code",
      "execution_count": 25,
      "metadata": {
        "colab": {
          "base_uri": "https://localhost:8080/"
        },
        "id": "56BCccNmaHxJ",
        "outputId": "8b8a2cd7-196f-4dc6-a35d-1f8500c98cee"
      },
      "outputs": [
        {
          "output_type": "stream",
          "name": "stdout",
          "text": [
            "Accuracy of the model on the 10000 test images: 0.10\n"
          ]
        }
      ],
      "source": [
        "# instiate the CNN model\n",
        "cnn = CNN()\n",
        "# for testing purpose, we calculate the accuracy of the initial\n",
        "cnn.eval()\n",
        "with torch.no_grad():\n",
        "    correct = 0\n",
        "    total = 0\n",
        "    for images, labels in train_loader:\n",
        "        test_output, last_layer = cnn(images)\n",
        "        pred_y = torch.max(test_output, 1)[1].data.squeeze()\n",
        "        accu = (pred_y == labels).sum().item() / float(labels.size(0))\n",
        "        pass\n",
        "print('Accuracy of the model on the 10000 test images: %.2f' % accu)\n"
      ]
    },
    {
      "cell_type": "code",
      "execution_count": 26,
      "metadata": {
        "colab": {
          "base_uri": "https://localhost:8080/"
        },
        "id": "2SgLXlB4gUXI",
        "outputId": "b8593032-136e-4a32-d793-c67bdb9b6836"
      },
      "outputs": [
        {
          "output_type": "stream",
          "name": "stdout",
          "text": [
            "Epoch [1/5], Loss: 0.1181\n",
            "Epoch [2/5], Loss: 0.0037\n",
            "Epoch [3/5], Loss: 0.0367\n",
            "Epoch [4/5], Loss: 0.0588\n",
            "Epoch [5/5], Loss: 0.1880\n"
          ]
        }
      ],
      "source": [
        "train(num_epochs=5, cnn=cnn, loaders=train_loader)"
      ]
    },
    {
      "cell_type": "markdown",
      "metadata": {
        "id": "IPdHArd2absW"
      },
      "source": [
        "# Evaluate the model on test data\n",
        "\n",
        "We must call model.eval() to set dropout and batch normalization layers to evaluation mode before running inference. model.train() set layers like dropout, batchnorm etc. to behave for training.\n",
        "\n",
        "You can call either model.eval() or model.train(mode=False) to tell that you are testing the model."
      ]
    },
    {
      "cell_type": "code",
      "execution_count": 27,
      "metadata": {
        "colab": {
          "base_uri": "https://localhost:8080/"
        },
        "id": "iE3LLvlCaUGk",
        "outputId": "c6f329d5-d095-4895-fc98-27dec157c3e6"
      },
      "outputs": [
        {
          "output_type": "stream",
          "name": "stdout",
          "text": [
            "Test Accuracy of the model on the 10000 test images: 0.99\n"
          ]
        }
      ],
      "source": [
        "# Test the model, after the training\n",
        "cnn.eval()\n",
        "with torch.no_grad():\n",
        "    correct = 0\n",
        "    total = 0\n",
        "    for images, labels in train_loader:\n",
        "        test_output, last_layer = cnn(images)\n",
        "        pred_y = torch.max(test_output, 1)[1].data.squeeze()\n",
        "        accu = (pred_y == labels).sum().item() / float(labels.size(0))\n",
        "        pass\n",
        "print('Test Accuracy of the model on the 10000 test images: %.2f' % accu)\n"
      ]
    },
    {
      "cell_type": "code",
      "execution_count": 28,
      "metadata": {
        "id": "yIXlb7xBgZUM",
        "colab": {
          "base_uri": "https://localhost:8080/"
        },
        "outputId": "29871449-e9e0-4a09-8a76-d24012960194"
      },
      "outputs": [
        {
          "output_type": "stream",
          "name": "stdout",
          "text": [
            "Test Accuracy of the model on the 10000 test images: 1.00\n"
          ]
        }
      ],
      "source": [
        "# Test the model, after the training\n",
        "cnn.eval()\n",
        "with torch.no_grad():\n",
        "    correct = 0\n",
        "    total = 0\n",
        "    for images, labels in test_loader:\n",
        "        test_output, last_layer = cnn(images)\n",
        "        pred_y = torch.max(test_output, 1)[1].data.squeeze()\n",
        "        accu = (pred_y == labels).sum().item() / float(labels.size(0))\n",
        "        pass\n",
        "print('Test Accuracy of the model on the 10000 test images: %.2f' % accu)\n"
      ]
    },
    {
      "cell_type": "markdown",
      "metadata": {
        "id": "cLDkYb_1gjDq"
      },
      "source": [
        "Run inference on individual images"
      ]
    },
    {
      "cell_type": "code",
      "execution_count": 29,
      "metadata": {
        "colab": {
          "base_uri": "https://localhost:8080/"
        },
        "id": "rtehzTY4awwx",
        "outputId": "20385889-66bb-4e89-c5b7-5ae388f3d8bf"
      },
      "outputs": [
        {
          "output_type": "stream",
          "name": "stdout",
          "text": [
            "Prediction number: [7 2 1 0 4 1 4 9 5 9]\n",
            "Actual number: [7 2 1 0 4 1 4 9 5 9]\n"
          ]
        }
      ],
      "source": [
        "sample = next(iter(test_loader))\n",
        "imgs, lbls = sample\n",
        "\n",
        "actual_number = lbls[:10].numpy()\n",
        "actual_number\n",
        "\n",
        "test_output, last_layer = cnn(imgs[:10])\n",
        "pred_y = torch.max(test_output, 1)[1].data.numpy().squeeze()\n",
        "print(f'Prediction number: {pred_y}')\n",
        "print(f'Actual number: {actual_number}')"
      ]
    },
    {
      "cell_type": "markdown",
      "metadata": {
        "id": "Oy0_hab6jlne"
      },
      "source": [
        "## Fashion MNIST (Homework dataset)\n"
      ]
    },
    {
      "cell_type": "markdown",
      "metadata": {
        "id": "lRBS_gV0abS7"
      },
      "source": [
        "The MNIST dataset is not too demanding, let's try something a little more difficult - Fashion MNIST.\n",
        "\n",
        "[LINK TO IMAGE](https://s3-eu-central-1.amazonaws.com/zalando-wp-zalando-research-production/2017/08/fashion-mnist-sprite.png)\n",
        "\n",
        "Check out labels on [GitHub](https://github.com/zalandoresearch/fashion-mnist):"
      ]
    },
    {
      "cell_type": "code",
      "execution_count": 29,
      "metadata": {
        "id": "a79RP37Yjqpq"
      },
      "outputs": [],
      "source": []
    },
    {
      "cell_type": "markdown",
      "metadata": {
        "id": "_JH978H1jrLk"
      },
      "source": [
        "# **HOMEWORK 1**\n",
        "Build a classifier for fashion MNIST.\n",
        "\n",
        "**1. Use exactly the same architectures (both densely connected layers and from convolutional layers) as the above MNIST** e.g., replace the dataset. Save the Jupyter Notebook in its original format and output a PDF file after training, testing, and validation. Make sure to write down how do they perform (training accuracny, testing accuracy).  \n",
        "**2. Improve the architecture**. Experiment with different numbers of layers, size of layers, number of filters, size of filters. You are required to make those adjustment to get the highest accuracy. Watch out for overfitting -- we want the highest testing accuracy!\n",
        "Please provide a PDF file of the result, the best test accuracy and the architecture (different numbers of layers, size of layers, number of filters, size of filters)"
      ]
    },
    {
      "cell_type": "markdown",
      "source": [
        "# Problem 1"
      ],
      "metadata": {
        "id": "DF0FNGvxjbTc"
      }
    },
    {
      "cell_type": "code",
      "source": [
        "#retrieve dataset\n",
        "from torchvision.datasets import FashionMNIST\n",
        "fmnist_dataset = FashionMNIST(root = 'data/', download=True, train = True, transform = transforms.ToTensor())\n",
        "#split dataset to training and validation data in proportion 5:1\n",
        "f_train, f_valid = random_split(fmnist_dataset, [5/6,1/6])\n",
        "f_train_l = DataLoader(f_train, batch_size, shuffle = True)\n",
        "f_valid_l = DataLoader(f_valid, batch_size, shuffle = False)"
      ],
      "metadata": {
        "id": "w42Mc8NXpCWP",
        "colab": {
          "base_uri": "https://localhost:8080/"
        },
        "outputId": "4d4f601d-cea2-4051-9434-8452907f48fe"
      },
      "execution_count": 30,
      "outputs": [
        {
          "output_type": "stream",
          "name": "stdout",
          "text": [
            "Downloading http://fashion-mnist.s3-website.eu-central-1.amazonaws.com/train-images-idx3-ubyte.gz\n",
            "Downloading http://fashion-mnist.s3-website.eu-central-1.amazonaws.com/train-images-idx3-ubyte.gz to data/FashionMNIST/raw/train-images-idx3-ubyte.gz\n"
          ]
        },
        {
          "output_type": "stream",
          "name": "stderr",
          "text": [
            "100%|██████████| 26421880/26421880 [00:01<00:00, 17140185.83it/s]\n"
          ]
        },
        {
          "output_type": "stream",
          "name": "stdout",
          "text": [
            "Extracting data/FashionMNIST/raw/train-images-idx3-ubyte.gz to data/FashionMNIST/raw\n",
            "\n",
            "Downloading http://fashion-mnist.s3-website.eu-central-1.amazonaws.com/train-labels-idx1-ubyte.gz\n",
            "Downloading http://fashion-mnist.s3-website.eu-central-1.amazonaws.com/train-labels-idx1-ubyte.gz to data/FashionMNIST/raw/train-labels-idx1-ubyte.gz\n"
          ]
        },
        {
          "output_type": "stream",
          "name": "stderr",
          "text": [
            "100%|██████████| 29515/29515 [00:00<00:00, 274324.32it/s]\n"
          ]
        },
        {
          "output_type": "stream",
          "name": "stdout",
          "text": [
            "Extracting data/FashionMNIST/raw/train-labels-idx1-ubyte.gz to data/FashionMNIST/raw\n",
            "\n",
            "Downloading http://fashion-mnist.s3-website.eu-central-1.amazonaws.com/t10k-images-idx3-ubyte.gz\n",
            "Downloading http://fashion-mnist.s3-website.eu-central-1.amazonaws.com/t10k-images-idx3-ubyte.gz to data/FashionMNIST/raw/t10k-images-idx3-ubyte.gz\n"
          ]
        },
        {
          "output_type": "stream",
          "name": "stderr",
          "text": [
            "100%|██████████| 4422102/4422102 [00:00<00:00, 5067618.31it/s]\n"
          ]
        },
        {
          "output_type": "stream",
          "name": "stdout",
          "text": [
            "Extracting data/FashionMNIST/raw/t10k-images-idx3-ubyte.gz to data/FashionMNIST/raw\n",
            "\n",
            "Downloading http://fashion-mnist.s3-website.eu-central-1.amazonaws.com/t10k-labels-idx1-ubyte.gz\n",
            "Downloading http://fashion-mnist.s3-website.eu-central-1.amazonaws.com/t10k-labels-idx1-ubyte.gz to data/FashionMNIST/raw/t10k-labels-idx1-ubyte.gz\n"
          ]
        },
        {
          "output_type": "stream",
          "name": "stderr",
          "text": [
            "100%|██████████| 5148/5148 [00:00<00:00, 17273821.59it/s]"
          ]
        },
        {
          "output_type": "stream",
          "name": "stdout",
          "text": [
            "Extracting data/FashionMNIST/raw/t10k-labels-idx1-ubyte.gz to data/FashionMNIST/raw\n",
            "\n"
          ]
        },
        {
          "output_type": "stream",
          "name": "stderr",
          "text": [
            "\n"
          ]
        }
      ]
    },
    {
      "cell_type": "code",
      "source": [
        "#CNN model\n",
        "f_model_cnn = CNN()\n",
        "\n",
        "#check starting accuracy\n",
        "f_model_cnn.eval()\n",
        "with torch.no_grad():\n",
        "    correct = 0\n",
        "    total = 0\n",
        "    for images, labels in f_train_l:\n",
        "        test_output, last_layer = f_model_cnn(images)\n",
        "        pred_y = torch.max(test_output, 1)[1].data.squeeze()\n",
        "        accu = (pred_y == labels).sum().item() / float(labels.size(0))\n",
        "        pass\n",
        "accu *= 100\n",
        "print(f'Accuracy for training suite before training: {accu:.2f}%')\n",
        "\n",
        "#train CNN model\n",
        "print(\"Training...\")\n",
        "train(num_epochs=5, cnn=f_model_cnn, loaders=f_train_l)\n",
        "\n",
        "#test trained CNN model\n",
        "f_model_cnn.eval()\n",
        "with torch.no_grad():\n",
        "    correct = 0\n",
        "    total = 0\n",
        "    for images, labels in f_train_l:\n",
        "        test_output, last_layer = f_model_cnn(images)\n",
        "        pred_y = torch.max(test_output, 1)[1].data.squeeze()\n",
        "        accu = (pred_y == labels).sum().item() / float(labels.size(0))\n",
        "        pass\n",
        "accu *= 100\n",
        "print(f'Accuracy for training suite after training: {accu:.2f}%')\n",
        "\n",
        "f_model_cnn.eval()\n",
        "with torch.no_grad():\n",
        "    correct = 0\n",
        "    total = 0\n",
        "    for images, labels in f_valid_l:\n",
        "        test_output, last_layer = f_model_cnn(images)\n",
        "        pred_y = torch.max(test_output, 1)[1].data.squeeze()\n",
        "        accu = (pred_y == labels).sum().item() / float(labels.size(0))\n",
        "        pass\n",
        "accu *= 100\n",
        "print(f'Accuracy for validation suite after training: {accu:.2f}%')"
      ],
      "metadata": {
        "colab": {
          "base_uri": "https://localhost:8080/"
        },
        "id": "r3M2WkkEueAL",
        "outputId": "f62784b7-3aea-48a2-bdd7-21a7c674b4c8"
      },
      "execution_count": 41,
      "outputs": [
        {
          "output_type": "stream",
          "name": "stdout",
          "text": [
            "Accuracy for training suite before training: 2.50%\n",
            "Training...\n",
            "Epoch [1/5], Loss: 0.2870\n",
            "Epoch [2/5], Loss: 0.4435\n",
            "Epoch [3/5], Loss: 0.1920\n",
            "Epoch [4/5], Loss: 0.2091\n",
            "Epoch [5/5], Loss: 0.2291\n",
            "Accuracy for training suite after training: 92.50%\n",
            "Accuracy for validation suite after training: 93.75%\n"
          ]
        }
      ]
    },
    {
      "cell_type": "code",
      "source": [
        "#DNN model\n",
        "f_model_dnn = MnistModel()\n",
        "\n",
        "#check starting accuracy\n",
        "before = evaluate(f_model_dnn, f_valid_l)\n",
        "print(\"Loss/accuracy prior to training:\", before)\n",
        "\n",
        "#train DNN model\n",
        "print(\"Training...\")\n",
        "history = fit(10, 0.001, model, train_loader, val_loader)\n",
        "\n",
        "print(\"Loss/accuracy after training:\", history[-1])"
      ],
      "metadata": {
        "colab": {
          "base_uri": "https://localhost:8080/"
        },
        "id": "TXW15B_9Ldwo",
        "outputId": "e1a5dc41-0789-4d3a-cffc-84bc15a29a10"
      },
      "execution_count": 32,
      "outputs": [
        {
          "output_type": "stream",
          "name": "stdout",
          "text": [
            "Loss/accuracy prior to training: {'val_loss': 2.3447678089141846, 'val_acc': 0.05379746854305267}\n",
            "Training...\n",
            "Epoch [0], val_loss: 0.8551, val_acc: 0.8361\n",
            "Epoch [1], val_loss: 0.8234, val_acc: 0.8393\n",
            "Epoch [2], val_loss: 0.7958, val_acc: 0.8418\n",
            "Epoch [3], val_loss: 0.7714, val_acc: 0.8442\n",
            "Epoch [4], val_loss: 0.7497, val_acc: 0.8467\n",
            "Epoch [5], val_loss: 0.7304, val_acc: 0.8473\n",
            "Epoch [6], val_loss: 0.7128, val_acc: 0.8497\n",
            "Epoch [7], val_loss: 0.6970, val_acc: 0.8508\n",
            "Epoch [8], val_loss: 0.6826, val_acc: 0.8523\n",
            "Epoch [9], val_loss: 0.6694, val_acc: 0.8545\n",
            "Loss/accuracy after training: {'val_loss': 0.6694398522377014, 'val_acc': 0.8545292615890503}\n"
          ]
        }
      ]
    },
    {
      "cell_type": "markdown",
      "source": [
        "#Problem 2"
      ],
      "metadata": {
        "id": "ftvQdXa92iHM"
      }
    },
    {
      "cell_type": "code",
      "source": [
        "#customized CNN class, with passable layers and altered parameters\n",
        "#constructor takes a list of 3-tuples, with each tuple being a layer\n",
        "#of input channel count [0], output channel count [1] and kernel size [2]\n",
        "class customCNN(nn.Module):\n",
        "    def __init__(self, layers):\n",
        "        super(customCNN, self).__init__()\n",
        "        self.layers = nn.ModuleList([ nn.Sequential(\n",
        "                                        nn.Conv2d(\n",
        "                                          in_channels=l[0],\n",
        "                                          out_channels=l[1],\n",
        "                                          kernel_size=l[2],\n",
        "                                          stride=1,\n",
        "                                          padding=2,),\n",
        "                                        nn.ReLU(),\n",
        "                                        nn.MaxPool2d(kernel_size=2),)\n",
        "                                      for l in layers ])\n",
        "    def forward(self, x):\n",
        "        for l in self.layers:\n",
        "          x = l(x)\n",
        "        x = x.view(x.size(0), -1)\n",
        "        if not hasattr(self, 'out'):\n",
        "          self.out = nn.Linear(x.size(1), 10)\n",
        "        output = self.out(x)\n",
        "        return output, x"
      ],
      "metadata": {
        "id": "ooxZH7or2mIr"
      },
      "execution_count": 39,
      "outputs": []
    },
    {
      "cell_type": "code",
      "source": [
        "#function for automatic training of a customCNN model and reporting on it\n",
        "def autotrain(model: customCNN, epochs: int):\n",
        "  train(num_epochs=epochs, cnn=model, loaders=f_train_l)\n",
        "  model.eval()\n",
        "  with torch.no_grad():\n",
        "    correct = 0\n",
        "    total = 0\n",
        "    for images, labels in f_train_l:\n",
        "      test_output, last_layer = model(images)\n",
        "      pred_y = torch.max(test_output, 1)[1].data.squeeze()\n",
        "      accu = (pred_y == labels).sum().item() / float(labels.size(0))\n",
        "  accu *= 100\n",
        "  print(f'Accuracy for validation suite: {accu:.2f}%')\n",
        "  model.eval()\n",
        "  with torch.no_grad():\n",
        "    correct = 0\n",
        "    total = 0\n",
        "    for images, labels in f_train_l:\n",
        "      test_output, last_layer = model(images)\n",
        "      pred_y = torch.max(test_output, 1)[1].data.squeeze()\n",
        "      accu = (pred_y == labels).sum().item() / float(labels.size(0))\n",
        "  accu *= 100\n",
        "  print(f'Accuracy for training suite: {accu:.2f}%')\n",
        "\n",
        "#custom models\n",
        "print(\"Model #1:\")\n",
        "model = customCNN([(1,4,8), (4,128,4), (128,128,4)])\n",
        "autotrain(model, 5)\n"
      ],
      "metadata": {
        "colab": {
          "base_uri": "https://localhost:8080/"
        },
        "id": "CiHNyyaopcru",
        "outputId": "5fd4bc94-66d0-46b8-bc84-fb6f62a1a815"
      },
      "execution_count": 46,
      "outputs": [
        {
          "output_type": "stream",
          "name": "stdout",
          "text": [
            "Model #1:\n",
            "Epoch [1/5], Loss: 0.4835\n",
            "Epoch [2/5], Loss: 0.4115\n",
            "Epoch [3/5], Loss: 0.3666\n",
            "Epoch [4/5], Loss: 0.2785\n",
            "Epoch [5/5], Loss: 0.2411\n",
            "Accuracy for validation suite: 97.50%\n",
            "Accuracy for training suite: 93.75%\n"
          ]
        }
      ]
    }
  ],
  "metadata": {
    "colab": {
      "provenance": []
    },
    "kernelspec": {
      "display_name": "Python 3 (ipykernel)",
      "language": "python",
      "name": "python3"
    },
    "language_info": {
      "codemirror_mode": {
        "name": "ipython",
        "version": 3
      },
      "file_extension": ".py",
      "mimetype": "text/x-python",
      "name": "python",
      "nbconvert_exporter": "python",
      "pygments_lexer": "ipython3",
      "version": "3.12.3"
    }
  },
  "nbformat": 4,
  "nbformat_minor": 0
}